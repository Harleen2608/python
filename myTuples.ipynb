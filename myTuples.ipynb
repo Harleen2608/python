{
  "nbformat": 4,
  "nbformat_minor": 0,
  "metadata": {
    "colab": {
      "provenance": [],
      "authorship_tag": "ABX9TyOZn0vG6POMleW9hCuqX/tc",
      "include_colab_link": true
    },
    "kernelspec": {
      "name": "python3",
      "display_name": "Python 3"
    },
    "language_info": {
      "name": "python"
    }
  },
  "cells": [
    {
      "cell_type": "markdown",
      "metadata": {
        "id": "view-in-github",
        "colab_type": "text"
      },
      "source": [
        "<a href=\"https://colab.research.google.com/github/Harleen2608/python/blob/main/myTuples.ipynb\" target=\"_parent\"><img src=\"https://colab.research.google.com/assets/colab-badge.svg\" alt=\"Open In Colab\"/></a>"
      ]
    },
    {
      "cell_type": "code",
      "execution_count": null,
      "metadata": {
        "colab": {
          "base_uri": "https://localhost:8080/"
        },
        "id": "rSSdZCR_J2Dm",
        "outputId": "f5df5b68-d930-4df4-bb80-f321b4151483"
      },
      "outputs": [
        {
          "output_type": "stream",
          "name": "stdout",
          "text": [
            "(1, 2, 3, 4, 5, 'krishna', 19.89, 23.09, True)\n",
            "(1, 2, 3)\n",
            "9\n",
            "(True, 23.09, 19.89, 'krishna', 5, 4, 3, 2, 1)\n",
            "5\n",
            "3\n",
            "('radha', 'krishna', 'lakshita', 1, 2, 3, 4, 5, 'krishna', 19.89, 23.09, True)\n",
            "('radha', 'krishna', 'lakshita', 'radha', 'krishna', 'lakshita', 'radha', 'krishna', 'lakshita')\n",
            "True\n",
            "False\n",
            "True\n"
          ]
        }
      ],
      "source": [
        "#TUPLES IN PYTHON\n",
        "\n",
        "t1=(1,2,3,4,5,\"krishna\",19.89,23.09,True) #creating tuples\n",
        "\n",
        "#UN-MUTTABLE--->unmodified and unchangeable\n",
        "\n",
        "#t1.extend((5,6,7)) #tuple object has no extend attribute\n",
        "\n",
        "#t1.remove(4) tuple object has no remove attribute\n",
        "\n",
        "#t1.append(0) tuple object has no append attribute\n",
        "\n",
        "#t1.insert(3,8) tuple object has no insert attribute\n",
        "\n",
        "#t1.sort() tuple object has no sort attribute\n",
        "\n",
        "print(t1)\n",
        "print(t1[0:3]) #slicing of tuple3uz 1\n",
        "print(len(t1)) #length of tuple\n",
        "print(t1[::-1])#revesing of tuple\n",
        "print(t1[4]) #indexing\n",
        "\n",
        "\n",
        "t2=(\"radha\",\"krishna\",\"lakshita\")\n",
        "\n",
        "print(len(t2))#taking string as indexing\n",
        "\n",
        "t3=t2+t1 #concatenation\n",
        "print(t3)\n",
        "\n",
        "repeated_tuple = t2*3\n",
        "print(repeated_tuple)\n",
        "\n",
        "print(\"krishna\" in t1)\n",
        "print(\"lakshita\" not in t3)\n",
        "print(\"lakshita\"  in t2)\n"
      ]
    }
  ]
}