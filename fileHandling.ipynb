{
  "nbformat": 4,
  "nbformat_minor": 0,
  "metadata": {
    "colab": {
      "provenance": [],
      "authorship_tag": "ABX9TyMGA/h4Eew1pu+EUPtpTu7c",
      "include_colab_link": true
    },
    "kernelspec": {
      "name": "python3",
      "display_name": "Python 3"
    },
    "language_info": {
      "name": "python"
    }
  },
  "cells": [
    {
      "cell_type": "markdown",
      "metadata": {
        "id": "view-in-github",
        "colab_type": "text"
      },
      "source": [
        "<a href=\"https://colab.research.google.com/github/Harleen2608/python/blob/main/fileHandling.ipynb\" target=\"_parent\"><img src=\"https://colab.research.google.com/assets/colab-badge.svg\" alt=\"Open In Colab\"/></a>"
      ]
    },
    {
      "cell_type": "code",
      "source": [
        "# \"r\" - Read - Default value. Opens a file for reading, error if the file does not exist\n",
        "\n",
        "# \"a\" - Append - Opens a file for appending, creates the file if it does not exist\n",
        "\n",
        "# \"w\" - Write - Opens a file for writing, creates the file if it does not exist\n",
        "\n",
        "# \"x\" - Create - Creates the specified file, returns an error if the file exists\n",
        "\n",
        "# \"t\" - Text - Default value. Text mode\n",
        "\n",
        "# \"b\" - Binary - Binary mode (e.g. images)\n",
        "\n",
        "\n",
        "\n"
      ],
      "metadata": {
        "id": "bSN-jECNaUtI"
      },
      "execution_count": null,
      "outputs": []
    },
    {
      "cell_type": "code",
      "source": [
        "file = open(\"python.py\")"
      ],
      "metadata": {
        "id": "ClsDbxqCa3hG"
      },
      "execution_count": null,
      "outputs": []
    },
    {
      "cell_type": "code",
      "source": [
        "f=open(\"python.py\",\"a\") #existing file\n",
        "f.write(\"hey i am here !\")\n",
        "f.close()\n",
        "\n",
        "f=open(\"python.py\",\"r\")\n",
        "print(f.read())"
      ],
      "metadata": {
        "colab": {
          "base_uri": "https://localhost:8080/"
        },
        "id": "k7AsBVbadHcB",
        "outputId": "70344b28-cca0-43d1-f2a9-edff8ed272e0"
      },
      "execution_count": null,
      "outputs": [
        {
          "output_type": "stream",
          "name": "stdout",
          "text": [
            "hey i am here !hey i am here !\n"
          ]
        }
      ]
    },
    {
      "cell_type": "code",
      "source": [
        "f = open(\"myfile.txt\", \"x\")"
      ],
      "metadata": {
        "id": "LL311uDpfAd7"
      },
      "execution_count": null,
      "outputs": []
    },
    {
      "cell_type": "code",
      "source": [
        "f = open(\"myfile.txt\", \"w\")"
      ],
      "metadata": {
        "id": "y4ih9GUvfGki"
      },
      "execution_count": null,
      "outputs": []
    },
    {
      "cell_type": "code",
      "source": [
        "f=open(\"python.py\",\"w\") /#writing in new file\n",
        "f.write(\"hey i am here !\")\n",
        "f.close()\n",
        "\n",
        "f=open(\"python.py\",\"r\")\n",
        "print(f.read())"
      ],
      "metadata": {
        "id": "Heko13TieviY"
      },
      "execution_count": null,
      "outputs": []
    },
    {
      "cell_type": "code",
      "source": [
        "file=open(\"python.py\",\"rt\")"
      ],
      "metadata": {
        "id": "UMo63IzZbUi2"
      },
      "execution_count": null,
      "outputs": []
    },
    {
      "cell_type": "code",
      "source": [
        "f=open(\"python.txt\",\"r\")\n",
        "print(f.read())"
      ],
      "metadata": {
        "id": "ZLc_UT7MblwO"
      },
      "execution_count": null,
      "outputs": []
    },
    {
      "cell_type": "code",
      "source": [
        "f=open(\"python.txt\",\"r\")\n",
        "print(f.read(10))"
      ],
      "metadata": {
        "id": "8RRLn_rIb61S"
      },
      "execution_count": null,
      "outputs": []
    },
    {
      "cell_type": "code",
      "source": [
        "f = open(\"demofile.txt\", \"r\")\n",
        "print(f.readline())"
      ],
      "metadata": {
        "id": "oSXL4gclcAbT"
      },
      "execution_count": null,
      "outputs": []
    },
    {
      "cell_type": "code",
      "source": [
        "f=open(\"demo.txt\",\"r\")\n",
        "print(f.readline())\n",
        "print(f.readline())\n",
        "print(f.readline())\n"
      ],
      "metadata": {
        "id": "Yaml09wbcB_T"
      },
      "execution_count": null,
      "outputs": []
    },
    {
      "cell_type": "code",
      "source": [
        "f=open(\"text.txt\",\"r\")\n",
        "for x in f:\n",
        "  print(x)"
      ],
      "metadata": {
        "id": "SPgWNb_wcbS5"
      },
      "execution_count": null,
      "outputs": []
    },
    {
      "cell_type": "code",
      "source": [
        "f = open(\"demofile.txt\", \"r\")\n",
        "print(f.readline())\n",
        "f.close()"
      ],
      "metadata": {
        "id": "ZhIFJgrlclkE"
      },
      "execution_count": null,
      "outputs": []
    },
    {
      "cell_type": "code",
      "source": [
        "import os\n",
        "os.remove(\"python.py\")"
      ],
      "metadata": {
        "id": "uRzpAnhKfNxZ"
      },
      "execution_count": null,
      "outputs": []
    },
    {
      "cell_type": "code",
      "source": [
        "import os\n",
        "if os.path.exists(\"python.py\"):\n",
        "  os.remove(\"python.py\")\n",
        "else:\n",
        "  print(\"file doesn't exists\")"
      ],
      "metadata": {
        "id": "uS1GKCnxfebr"
      },
      "execution_count": null,
      "outputs": []
    },
    {
      "cell_type": "code",
      "source": [
        "import os\n",
        "os.rmdir(\"myfolder\")"
      ],
      "metadata": {
        "id": "XJf9snasgAu-"
      },
      "execution_count": null,
      "outputs": []
    }
  ]
}