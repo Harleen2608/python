{
  "nbformat": 4,
  "nbformat_minor": 0,
  "metadata": {
    "colab": {
      "provenance": [],
      "authorship_tag": "ABX9TyN7bvINld+zvNq+misae3HB",
      "include_colab_link": true
    },
    "kernelspec": {
      "name": "python3",
      "display_name": "Python 3"
    },
    "language_info": {
      "name": "python"
    }
  },
  "cells": [
    {
      "cell_type": "markdown",
      "metadata": {
        "id": "view-in-github",
        "colab_type": "text"
      },
      "source": [
        "<a href=\"https://colab.research.google.com/github/Harleen2608/python/blob/main/oops_class.ipynb\" target=\"_parent\"><img src=\"https://colab.research.google.com/assets/colab-badge.svg\" alt=\"Open In Colab\"/></a>"
      ]
    },
    {
      "cell_type": "code",
      "execution_count": null,
      "metadata": {
        "id": "P9qsQ8aA7ovV"
      },
      "outputs": [],
      "source": [
        "class A:\n",
        "  pass\n",
        "obj=A()"
      ]
    },
    {
      "cell_type": "code",
      "source": [
        "class A:\n",
        "  age=10\n",
        "  print(age)\n",
        "obj=A()"
      ],
      "metadata": {
        "colab": {
          "base_uri": "https://localhost:8080/"
        },
        "id": "3kBaGbnl9Qsw",
        "outputId": "59fe1d60-d95e-48d1-9888-98ffa81cf382"
      },
      "execution_count": 2,
      "outputs": [
        {
          "output_type": "stream",
          "name": "stdout",
          "text": [
            "10\n"
          ]
        }
      ]
    },
    {
      "cell_type": "code",
      "source": [
        "class A:\n",
        " def __init__(self):#self is a default parameterized reference which stores current object\n",
        "  age=10\n",
        "  print(age)\n",
        "obj=A()\n",
        "obj2=A()"
      ],
      "metadata": {
        "colab": {
          "base_uri": "https://localhost:8080/"
        },
        "id": "NkUE5DHe9w8_",
        "outputId": "1ccc48d7-a870-4f2e-c914-741ca6ddf682"
      },
      "execution_count": 6,
      "outputs": [
        {
          "output_type": "stream",
          "name": "stdout",
          "text": [
            "10\n",
            "10\n"
          ]
        }
      ]
    },
    {
      "cell_type": "code",
      "source": [
        "class A:\n",
        "  age=10\n",
        "  \"\"\"learn coding with Lakshita.............\"\"\"#it will take as a comment this time\n",
        "  print(age)\n",
        "obj=A()\n",
        "print(obj.age)\n",
        "print(A.age)\n",
        "print(obj.__doc__)\n",
        "\n"
      ],
      "metadata": {
        "colab": {
          "base_uri": "https://localhost:8080/"
        },
        "id": "-lqYrXA6_tfH",
        "outputId": "156c4048-f947-4bac-875d-ce8901f5bb76"
      },
      "execution_count": 13,
      "outputs": [
        {
          "output_type": "stream",
          "name": "stdout",
          "text": [
            "10\n",
            "10\n",
            "10\n",
            "None\n"
          ]
        }
      ]
    },
    {
      "cell_type": "code",
      "source": [
        "class A:\n",
        "  age=10\n",
        "  name=\"\"\"learn coding with priya....\"\"\" #now it will print as it is take as a variable\n",
        "  print(age,name)\n"
      ],
      "metadata": {
        "colab": {
          "base_uri": "https://localhost:8080/"
        },
        "id": "SzerVxzDDD5V",
        "outputId": "f66f3d6e-fd42-4ff2-cd9e-cb17110978b1"
      },
      "execution_count": 14,
      "outputs": [
        {
          "output_type": "stream",
          "name": "stdout",
          "text": [
            "10 learn coding with priya....\n"
          ]
        }
      ]
    },
    {
      "cell_type": "code",
      "source": [
        "class A:\n",
        "  '''learn coding with me...................'''\n",
        "  age=10"
      ],
      "metadata": {
        "id": "pQjb56ti-uDy"
      },
      "execution_count": null,
      "outputs": []
    },
    {
      "cell_type": "code",
      "source": [
        "class A:\n",
        "  age=60\n",
        "  def fun(self):\n",
        "    '''WE are here for you'''\n",
        "    b=\"harleen\"\n",
        "    print(b)\n",
        "obj=A()\n",
        "print(obj.age)\n",
        "obj.fun()\n",
        "print(obj.__doc__)\n",
        "print(obj.fun().__doc__)\n",
        "print(obj.fun.__doc__)\n"
      ],
      "metadata": {
        "colab": {
          "base_uri": "https://localhost:8080/"
        },
        "id": "UkDYrOTsDlPc",
        "outputId": "445ad27c-70ef-4248-fd23-72167197c64e"
      },
      "execution_count": 23,
      "outputs": [
        {
          "output_type": "stream",
          "name": "stdout",
          "text": [
            "60\n",
            "harleen\n",
            "None\n",
            "harleen\n",
            "None\n",
            "WE are here for you\n"
          ]
        }
      ]
    },
    {
      "cell_type": "code",
      "source": [
        "class A:\n",
        "  age=10\n",
        "  def fun(self,age,name,address):#self is a pointer\n",
        "    print(age,\" \", name,\" \",address)\n",
        "obj=A()\n",
        "obj.fun(24,\"AAdil\",\"Jammu&kashmir\")\n",
        "obj.fun(23,\"vinod\",\"jaipur\")"
      ],
      "metadata": {
        "colab": {
          "base_uri": "https://localhost:8080/"
        },
        "id": "2jqkBUHFHZtC",
        "outputId": "e953016e-673b-43c0-860d-81a96f179678"
      },
      "execution_count": 28,
      "outputs": [
        {
          "output_type": "stream",
          "name": "stdout",
          "text": [
            "24   AAdil   Jammu&kashmir\n",
            "23   vinod   jaipur\n"
          ]
        }
      ]
    },
    {
      "cell_type": "code",
      "source": [
        "class A:\n",
        "  age=10\n",
        "  def __init__(self,age,address,name):\n",
        "    print(age,\"  \",name,\"  \",address)\n",
        "obj=A(15,\"shona\",\"jaipur\")\n",
        "obj=A(12,\"khushi\",\"shrinagar\")\n"
      ],
      "metadata": {
        "colab": {
          "base_uri": "https://localhost:8080/"
        },
        "id": "Ifiv-vDdIlaF",
        "outputId": "a82858e2-142b-4761-a911-8ef99631d229"
      },
      "execution_count": 29,
      "outputs": [
        {
          "output_type": "stream",
          "name": "stdout",
          "text": [
            "15    jaipur    shona\n",
            "12    shrinagar    khushi\n"
          ]
        }
      ]
    }
  ]
}