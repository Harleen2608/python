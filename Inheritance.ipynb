{
  "nbformat": 4,
  "nbformat_minor": 0,
  "metadata": {
    "colab": {
      "provenance": [],
      "authorship_tag": "ABX9TyNUZbmX8tuBsay6MBhamhEs",
      "include_colab_link": true
    },
    "kernelspec": {
      "name": "python3",
      "display_name": "Python 3"
    },
    "language_info": {
      "name": "python"
    }
  },
  "cells": [
    {
      "cell_type": "markdown",
      "metadata": {
        "id": "view-in-github",
        "colab_type": "text"
      },
      "source": [
        "<a href=\"https://colab.research.google.com/github/Harleen2608/python/blob/main/Inheritance.ipynb\" target=\"_parent\"><img src=\"https://colab.research.google.com/assets/colab-badge.svg\" alt=\"Open In Colab\"/></a>"
      ]
    },
    {
      "cell_type": "code",
      "execution_count": 6,
      "metadata": {
        "colab": {
          "base_uri": "https://localhost:8080/"
        },
        "id": "ZEprZ5-5NTH6",
        "outputId": "7db65284-2749-431f-f1cd-d9d9d49e4c9f"
      },
      "outputs": [
        {
          "output_type": "stream",
          "name": "stdout",
          "text": [
            "radha\n",
            "<__main__.child object at 0x7d30b1d2a890>\n"
          ]
        }
      ],
      "source": [
        "#single inheritance\n",
        "class parent:\n",
        "  print(\"radha\")\n",
        "\n",
        "class child(parent):\n",
        "  pass\n",
        "\n",
        "obj=child()\n",
        "print(obj)\n",
        "\n"
      ]
    },
    {
      "cell_type": "code",
      "source": [
        "class parent():\n",
        "  def house(self):\n",
        "    print(\"having the property of 30 acres\")\n",
        "\n",
        "class child(parent):\n",
        "  def money(self):\n",
        "    print(\"i have only 20 lacs\")\n",
        "\n",
        "c=child()\n",
        "c.house()\n",
        "c.money()\n"
      ],
      "metadata": {
        "colab": {
          "base_uri": "https://localhost:8080/"
        },
        "id": "I-WFrHFIQCg5",
        "outputId": "aee22797-c42e-4ffe-ad01-3171b71da607"
      },
      "execution_count": 9,
      "outputs": [
        {
          "output_type": "stream",
          "name": "stdout",
          "text": [
            "having the property of 30 acres\n",
            "i have only 20 lacs\n"
          ]
        }
      ]
    },
    {
      "cell_type": "code",
      "source": [
        "class parent(child):\n",
        "  def house(self):\n",
        "    print(\"having the property of 30 acres\")\n",
        "\n",
        "class child():\n",
        "  def money(self):\n",
        "    print(\"i have only 20 lacs\")\n",
        "\n",
        "c=parent()\n",
        "c.house()\n",
        "c.money()\n"
      ],
      "metadata": {
        "colab": {
          "base_uri": "https://localhost:8080/"
        },
        "id": "wcqLLepgRkR3",
        "outputId": "6c189ed2-174e-4ae5-aabe-19d4ec41272b"
      },
      "execution_count": 10,
      "outputs": [
        {
          "output_type": "stream",
          "name": "stdout",
          "text": [
            "having the property of 30 acres\n",
            "i have only 20 lacs\n"
          ]
        }
      ]
    },
    {
      "cell_type": "code",
      "source": [
        "class A:\n",
        "  def __init__(self):\n",
        "    self.num1=int(input(\"enter a number 1:\"))\n",
        "    self.num2=int(input(\"enter a number 2:\"))\n",
        "\n",
        "  def add(self):\n",
        "    result=self.num1 + self.num2\n",
        "    print(\"Addition :\",result)\n",
        "\n",
        "  def diff(self):\n",
        "    result=self.num1 - self.num2\n",
        "    print(\"Difference :\",result)\n",
        "\n",
        "class B(A):\n",
        "\n",
        "  def product(self):\n",
        "    result=self.num1 * self.num2\n",
        "    print(\"Product :\",result)\n",
        "\n",
        "  def division(self):\n",
        "    result=self.num1 / self.num2\n",
        "    print(\"Division :\",result)\n",
        "\n",
        "  def remainder(self):\n",
        "    result=self.num1 % self.num2\n",
        "    print(\"Remainder :\",result)\n",
        "\n",
        "obj=B()\n",
        "obj.add()\n",
        "obj.diff()\n",
        "obj.product()\n",
        "obj.division()\n",
        "obj.remainder()\n",
        "\n",
        "\n",
        ""
      ],
      "metadata": {
        "colab": {
          "base_uri": "https://localhost:8080/"
        },
        "id": "04_rtM2gSHO4",
        "outputId": "6a039cf6-02ea-42ef-9323-adf3167a9e3b"
      },
      "execution_count": 16,
      "outputs": [
        {
          "output_type": "stream",
          "name": "stdout",
          "text": [
            "enter a number 1:8\n",
            "enter a number 2:6\n",
            "Addition : 14\n",
            "Difference : 2\n",
            "Product : 48\n",
            "Division : 1.3333333333333333\n",
            "Remainder : 2\n"
          ]
        }
      ]
    },
    {
      "cell_type": "code",
      "source": [
        "#Multiple Inheritance\n",
        "class Muskan :\n",
        "  Back=\"database with java\"\n",
        "  def Backend(self):\n",
        "     print(\"Backend task implementation\",self.Back)\n",
        "\n",
        "class Simran :\n",
        "  Front=\"HTML,CSS,J.S\"\n",
        "  def Frontend(self):\n",
        "     print(\"Frontend task implementation\",self.Front)\n",
        "\n",
        "class Naman :\n",
        "  Design=\"HTML,CSS,J.S\"\n",
        "  def Designing(self):\n",
        "     print(\"Designing task implementation\",self.Design)\n",
        "\n",
        "class AAlam :\n",
        "  deploy=\"HTML,CSS,J.S\"\n",
        "  def Deployment(self):\n",
        "     print(\"Deployment task implementation\",self.deploy)\n",
        "\n",
        "class AAdil(Muskan,Simran,Naman,AAlam):\n",
        "  def show(self):\n",
        "    print(\"Dynamic project\")\n",
        "\n",
        "project = AAdil()\n",
        "project.Backend()\n",
        "project.Deployment()\n",
        "project.Frontend()\n",
        "project.Designing()\n",
        "project.show()\n",
        "\n",
        "\n",
        "\n"
      ],
      "metadata": {
        "colab": {
          "base_uri": "https://localhost:8080/"
        },
        "id": "fIAEjdRYVDn5",
        "outputId": "9fa4377e-6858-40fd-9da9-b46aa8ad0472"
      },
      "execution_count": 14,
      "outputs": [
        {
          "output_type": "stream",
          "name": "stdout",
          "text": [
            "Backend task implementation database with java\n",
            "Deployment task implementation HTML,CSS,J.S\n",
            "Frontend task implementation HTML,CSS,J.S\n",
            "Designing task implementation HTML,CSS,J.S\n",
            "Dynamic project\n"
          ]
        }
      ]
    }
  ]
}