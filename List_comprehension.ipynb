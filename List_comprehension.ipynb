{
  "nbformat": 4,
  "nbformat_minor": 0,
  "metadata": {
    "colab": {
      "provenance": [],
      "authorship_tag": "ABX9TyMZfTBYkG8o654hgxuKcbvf",
      "include_colab_link": true
    },
    "kernelspec": {
      "name": "python3",
      "display_name": "Python 3"
    },
    "language_info": {
      "name": "python"
    }
  },
  "cells": [
    {
      "cell_type": "markdown",
      "metadata": {
        "id": "view-in-github",
        "colab_type": "text"
      },
      "source": [
        "<a href=\"https://colab.research.google.com/github/Harleen2608/python/blob/main/List_comprehension.ipynb\" target=\"_parent\"><img src=\"https://colab.research.google.com/assets/colab-badge.svg\" alt=\"Open In Colab\"/></a>"
      ]
    },
    {
      "cell_type": "code",
      "source": [
        "# List comprehension is useful for string manipulation and filtring on lists and helps to apply or perform operations on lists"
      ],
      "metadata": {
        "id": "6HMZvvCfvQLp"
      },
      "execution_count": null,
      "outputs": []
    },
    {
      "cell_type": "code",
      "execution_count": null,
      "metadata": {
        "colab": {
          "base_uri": "https://localhost:8080/"
        },
        "id": "iOyBaoPstupT",
        "outputId": "0fcf4c8a-03b8-4c76-b94d-4b3a26323dfc"
      },
      "outputs": [
        {
          "output_type": "stream",
          "name": "stdout",
          "text": [
            "even numbers are: [0, 2, 4, 6, 8, 10]\n"
          ]
        }
      ],
      "source": [
        "#even numbers using list compreshension\n",
        "CheckEven= [(i) for i in range(11) if i % 2 == 0]\n",
        "print(\"even numbers are:\",CheckEven)"
      ]
    },
    {
      "cell_type": "code",
      "source": [
        "# using traditional method\n",
        "squares=[]\n",
        "for i in range(0,5):\n",
        "  squares.append(i**2)\n",
        "print(squares)"
      ],
      "metadata": {
        "colab": {
          "base_uri": "https://localhost:8080/"
        },
        "id": "lEScmK-1uQzd",
        "outputId": "8d7310a0-723b-45d7-862f-0476471798d1"
      },
      "execution_count": null,
      "outputs": [
        {
          "output_type": "stream",
          "name": "stdout",
          "text": [
            "[0, 1, 4, 9, 16]\n"
          ]
        }
      ]
    },
    {
      "cell_type": "code",
      "source": [
        "#using List comprehension\n",
        "square_comp=[i**2 for i in range(5) ]\n",
        "print(\"sqaures numbers are:\",square_comp)\n"
      ],
      "metadata": {
        "colab": {
          "base_uri": "https://localhost:8080/"
        },
        "id": "e4KTrPffupCR",
        "outputId": "9a1e5d72-9d7e-4b9f-b309-0115a5c47478"
      },
      "execution_count": null,
      "outputs": [
        {
          "output_type": "stream",
          "name": "stdout",
          "text": [
            "sqaures numbers are: [0, 1, 4, 9, 16]\n"
          ]
        }
      ]
    },
    {
      "cell_type": "code",
      "source": [
        "even_and_square=[x**2 for x in range(11) if x%2==0]\n",
        "print(even_and_square)"
      ],
      "metadata": {
        "colab": {
          "base_uri": "https://localhost:8080/"
        },
        "id": "7xKYsCXnwqoT",
        "outputId": "612e07eb-150f-45c0-d09e-672956bf4427"
      },
      "execution_count": null,
      "outputs": [
        {
          "output_type": "stream",
          "name": "stdout",
          "text": [
            "[0, 4, 16, 36, 64, 100]\n"
          ]
        }
      ]
    },
    {
      "cell_type": "code",
      "source": [],
      "metadata": {
        "id": "A3ZXyMlav49g"
      },
      "execution_count": null,
      "outputs": []
    }
  ]
}