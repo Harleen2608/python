{
  "nbformat": 4,
  "nbformat_minor": 0,
  "metadata": {
    "colab": {
      "provenance": [],
      "authorship_tag": "ABX9TyNtezpuOgWqc4q4WDTDVaYY",
      "include_colab_link": true
    },
    "kernelspec": {
      "name": "python3",
      "display_name": "Python 3"
    },
    "language_info": {
      "name": "python"
    }
  },
  "cells": [
    {
      "cell_type": "markdown",
      "metadata": {
        "id": "view-in-github",
        "colab_type": "text"
      },
      "source": [
        "<a href=\"https://colab.research.google.com/github/Harleen2608/python/blob/main/WalrusOPerator.ipynb\" target=\"_parent\"><img src=\"https://colab.research.google.com/assets/colab-badge.svg\" alt=\"Open In Colab\"/></a>"
      ]
    },
    {
      "cell_type": "code",
      "execution_count": null,
      "metadata": {
        "colab": {
          "base_uri": "https://localhost:8080/"
        },
        "id": "9Jd_WiDtxaeU",
        "outputId": "db087f4d-cc03-4ff1-cc87-2622dbac9416"
      },
      "outputs": [
        {
          "output_type": "stream",
          "name": "stdout",
          "text": [
            "[25, 16, 9, 4, 1]\n"
          ]
        }
      ],
      "source": [
        "#traditional method\n",
        "n=5\n",
        "squares=[]\n",
        "while n>0:\n",
        "  square = n**2\n",
        "  squares.append(square)\n",
        "  n-=1\n",
        "print(squares)"
      ]
    },
    {
      "cell_type": "code",
      "source": [
        "#USing the walrus method\n",
        "n=5\n",
        "squares=[]\n",
        "while (square :=n**2)>0:\n",
        "  squares.append(square)\n",
        "  n-=1\n",
        "print(squares)"
      ],
      "metadata": {
        "colab": {
          "base_uri": "https://localhost:8080/"
        },
        "id": "u1lOhUr7yfvI",
        "outputId": "9ac1fd6d-29b4-4dc3-9487-a11998463b42"
      },
      "execution_count": null,
      "outputs": [
        {
          "output_type": "stream",
          "name": "stdout",
          "text": [
            "[25, 16, 9, 4, 1]\n"
          ]
        }
      ]
    }
  ]
}