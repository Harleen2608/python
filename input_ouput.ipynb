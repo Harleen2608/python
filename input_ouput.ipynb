{
  "nbformat": 4,
  "nbformat_minor": 0,
  "metadata": {
    "colab": {
      "provenance": [],
      "authorship_tag": "ABX9TyN0/YfKtueYQcPqoR9u9htk",
      "include_colab_link": true
    },
    "kernelspec": {
      "name": "python3",
      "display_name": "Python 3"
    },
    "language_info": {
      "name": "python"
    }
  },
  "cells": [
    {
      "cell_type": "markdown",
      "metadata": {
        "id": "view-in-github",
        "colab_type": "text"
      },
      "source": [
        "<a href=\"https://colab.research.google.com/github/Harleen2608/python/blob/main/input_ouput.ipynb\" target=\"_parent\"><img src=\"https://colab.research.google.com/assets/colab-badge.svg\" alt=\"Open In Colab\"/></a>"
      ]
    },
    {
      "cell_type": "code",
      "execution_count": 1,
      "metadata": {
        "colab": {
          "base_uri": "https://localhost:8080/"
        },
        "id": "NgdCBsWOshNH",
        "outputId": "1971be90-1d9f-46a2-a302-65e2ffe374f3"
      },
      "outputs": [
        {
          "output_type": "stream",
          "name": "stdout",
          "text": [
            "happy coding\n",
            "enter the value23\n",
            "enter the value78\n",
            "101\n",
            "-55 1794 0.2948717948717949 0 16397257218987799102481750240435915127423202162980618558306068975244248784823204354849013987593911694566769\n"
          ]
        }
      ],
      "source": [
        "print(\"happy coding\")#printing the output\n",
        "a = int(input(\"enter the value\"))\n",
        "b = int(input(\"enter the value\"))\n",
        "result= a+b\n",
        "product=a*b #product of two numbers\n",
        "division=a/b\n",
        "'''here we created a calulator it computes the results of\n",
        "   various arithmetic operations like addition ,multiplication,division ,floor division\n",
        "   and many more.its written in python language.'''\n",
        "difference= a-b\n",
        "floordiv = a//b\n",
        "power=a**b\n",
        "print(result)\n",
        "print(difference,product,division,floordiv,power)\n"
      ]
    },
    {
      "cell_type": "code",
      "source": [
        "a=20\n",
        "print(type(a))#checking the type of data\n",
        "s=\"candy\"\n",
        "print(type(s))"
      ],
      "metadata": {
        "colab": {
          "base_uri": "https://localhost:8080/"
        },
        "id": "KEHPXBnxyXH-",
        "outputId": "8f193539-9178-47a8-f2bc-7e5ed5ecfe86"
      },
      "execution_count": null,
      "outputs": [
        {
          "output_type": "stream",
          "name": "stdout",
          "text": [
            "<class 'int'>\n",
            "<class 'str'>\n"
          ]
        }
      ]
    },
    {
      "cell_type": "code",
      "source": [
        "import keyword\n",
        "print(keyword.kwlist)#printing all the keywords in python\n",
        "\n"
      ],
      "metadata": {
        "colab": {
          "base_uri": "https://localhost:8080/"
        },
        "id": "gV75F1_Mz6zD",
        "outputId": "5630b8c6-dce2-482b-ec43-cfa77c5291de"
      },
      "execution_count": null,
      "outputs": [
        {
          "output_type": "stream",
          "name": "stdout",
          "text": [
            "['False', 'None', 'True', 'and', 'as', 'assert', 'async', 'await', 'break', 'class', 'continue', 'def', 'del', 'elif', 'else', 'except', 'finally', 'for', 'from', 'global', 'if', 'import', 'in', 'is', 'lambda', 'nonlocal', 'not', 'or', 'pass', 'raise', 'return', 'try', 'while', 'with', 'yield']\n"
          ]
        }
      ]
    }
  ]
}