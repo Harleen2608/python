{
  "nbformat": 4,
  "nbformat_minor": 0,
  "metadata": {
    "colab": {
      "provenance": [],
      "authorship_tag": "ABX9TyNq8kTvhqYnoaJ+4VYoYp9G",
      "include_colab_link": true
    },
    "kernelspec": {
      "name": "python3",
      "display_name": "Python 3"
    },
    "language_info": {
      "name": "python"
    }
  },
  "cells": [
    {
      "cell_type": "markdown",
      "metadata": {
        "id": "view-in-github",
        "colab_type": "text"
      },
      "source": [
        "<a href=\"https://colab.research.google.com/github/Harleen2608/python/blob/main/mySets.ipynb\" target=\"_parent\"><img src=\"https://colab.research.google.com/assets/colab-badge.svg\" alt=\"Open In Colab\"/></a>"
      ]
    },
    {
      "cell_type": "code",
      "execution_count": null,
      "metadata": {
        "colab": {
          "base_uri": "https://localhost:8080/",
          "height": 140
        },
        "id": "FKYHl-gGlAZW",
        "outputId": "14a2234c-e6eb-487c-d84e-aaf8eab20cae"
      },
      "outputs": [
        {
          "output_type": "error",
          "ename": "IndentationError",
          "evalue": "unexpected indent (<ipython-input-30-3d550dfd6ecb>, line 9)",
          "traceback": [
            "\u001b[0;36m  File \u001b[0;32m\"<ipython-input-30-3d550dfd6ecb>\"\u001b[0;36m, line \u001b[0;32m9\u001b[0m\n\u001b[0;31m    s1.add(0)\u001b[0m\n\u001b[0m    ^\u001b[0m\n\u001b[0;31mIndentationError\u001b[0m\u001b[0;31m:\u001b[0m unexpected indent\n"
          ]
        }
      ],
      "source": [
        "s1={1,2,0,3,6,4,5}\n",
        "s2={6,8,7,3,9,\"a\"}\n",
        "s3={\"a\",\"b\",\"c\",\"d\"}\n",
        "\n",
        "#removing elements\n",
        "s1.remove(3)\n",
        "\n",
        "#adding elements\n",
        "s1.add(0)\n",
        "s1.add(\"riya\")\n",
        "s1.add(0.78)\n",
        "s1.add(True) #boolean datatype will not be added\n",
        "\n",
        "\n",
        "s3=s3.union(s2) #union or addition of sets\n",
        "print(s3)\n",
        "\n",
        "s4=s2.intersection(s3) #common elements in both seta\n",
        "print(s4)\n",
        "\n",
        "s5=s1.difference(s2) #elements of s1 which are not the part of elements s2 A-B\n",
        "print(s5)\n",
        "\n",
        "s6=s1.symmetric_difference(s2)#uncommon elements got printed,--- opposite of intersection\n",
        "print(s6)\n",
        "\n",
        "length=len(s2)\n",
        "print(length)"
      ]
    }
  ]
}