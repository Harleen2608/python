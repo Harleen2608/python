{
  "nbformat": 4,
  "nbformat_minor": 0,
  "metadata": {
    "colab": {
      "provenance": [],
      "authorship_tag": "ABX9TyNOW720bGFQanAOZlwuitnJ",
      "include_colab_link": true
    },
    "kernelspec": {
      "name": "python3",
      "display_name": "Python 3"
    },
    "language_info": {
      "name": "python"
    }
  },
  "cells": [
    {
      "cell_type": "markdown",
      "metadata": {
        "id": "view-in-github",
        "colab_type": "text"
      },
      "source": [
        "<a href=\"https://colab.research.google.com/github/Harleen2608/python/blob/main/myDictionary.ipynb\" target=\"_parent\"><img src=\"https://colab.research.google.com/assets/colab-badge.svg\" alt=\"Open In Colab\"/></a>"
      ]
    },
    {
      "cell_type": "code",
      "execution_count": null,
      "metadata": {
        "colab": {
          "base_uri": "https://localhost:8080/"
        },
        "id": "wFoIsJbFyIDM",
        "outputId": "6277fa89-9a15-44fb-b603-034b9a362ba3"
      },
      "outputs": [
        {
          "output_type": "stream",
          "name": "stdout",
          "text": [
            "radha\n",
            "{'name': 'radha', 'contact': '45678932', 'hobby': 'playing'}\n",
            "dict_keys(['name', 'contact', 'hobby'])\n",
            "dict_values(['krishna', '45678932', 'playing'])\n",
            "dict_items([('name', 'krishna'), ('contact', '45678932'), ('hobby', 'playing')])\n"
          ]
        }
      ],
      "source": [
        "d1={\n",
        "    \"name\":\"radha\",\n",
        "    \"add\":\"jaipur\",\n",
        "    \"contact\":\"45678932\"\n",
        "}\n",
        "print(d1[\"name\"])    #accessing value using keys\n",
        "del d1[\"add\"]        #removing an item from dictionary\n",
        "d1[\"hobby\"]=\"playing\"#adding new item\n",
        "print(d1)            #printing dictionary\n",
        "d1[\"name\"]=\"krishna\" #updating new values for a key\n",
        "keys= d1.keys()      #all keys\n",
        "Values=d1.values()   #all values\n",
        "items=d1.items()     #all items\n",
        "\n",
        "print(keys)\n",
        "print(Values)\n",
        "print(items)\n",
        "\n",
        "\n"
      ]
    }
  ]
}