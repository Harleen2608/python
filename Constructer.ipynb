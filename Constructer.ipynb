{
  "nbformat": 4,
  "nbformat_minor": 0,
  "metadata": {
    "colab": {
      "provenance": [],
      "authorship_tag": "ABX9TyOHETNC8xHt6NamjXypJJse",
      "include_colab_link": true
    },
    "kernelspec": {
      "name": "python3",
      "display_name": "Python 3"
    },
    "language_info": {
      "name": "python"
    }
  },
  "cells": [
    {
      "cell_type": "markdown",
      "metadata": {
        "id": "view-in-github",
        "colab_type": "text"
      },
      "source": [
        "<a href=\"https://colab.research.google.com/github/Harleen2608/python/blob/main/Constructer.ipynb\" target=\"_parent\"><img src=\"https://colab.research.google.com/assets/colab-badge.svg\" alt=\"Open In Colab\"/></a>"
      ]
    },
    {
      "cell_type": "code",
      "execution_count": null,
      "metadata": {
        "id": "yJxeLWyNQRRF"
      },
      "outputs": [],
      "source": [
        "#default parameters\n",
        "class A:\n",
        "  def __init__(self):\n",
        "    name=\"anjali\"\n",
        "    print(name)\n",
        "\n",
        "obj=A()"
      ]
    },
    {
      "cell_type": "code",
      "source": [
        "class A:\n",
        "  age=10\n",
        "  def __init__(self):\n",
        "    name=\"aadil\"\n",
        "    print(name,self.age)\n",
        "obj=A()"
      ],
      "metadata": {
        "colab": {
          "base_uri": "https://localhost:8080/"
        },
        "id": "gwVN8fBoQxc_",
        "outputId": "b1c6c84f-2a29-432c-a9cb-49c80a7b543a"
      },
      "execution_count": 14,
      "outputs": [
        {
          "output_type": "stream",
          "name": "stdout",
          "text": [
            "aadil 10\n"
          ]
        }
      ]
    },
    {
      "cell_type": "code",
      "source": [
        "class A:\n",
        "  name=\"Muskan\"\n",
        "  age=32\n",
        "  def __init__(self):\n",
        "    address=\"Ganganagar girls clg\"\n",
        "    print(\"the default counstructer has been constructed\",self.name,address)\n",
        "  def show(self):\n",
        "    print(self.age)\n",
        "obj=A()\n",
        "obj.show()"
      ],
      "metadata": {
        "colab": {
          "base_uri": "https://localhost:8080/"
        },
        "id": "o68A1h4sRv-W",
        "outputId": "33e7a153-f721-4a94-becb-2818b60313e3"
      },
      "execution_count": 3,
      "outputs": [
        {
          "output_type": "stream",
          "name": "stdout",
          "text": [
            "the default counstructer has been constructed Muskan Ganganagar girls clg\n",
            "32\n"
          ]
        }
      ]
    },
    {
      "cell_type": "code",
      "source": [
        "#Parameterized Constructers\n",
        "class A:\n",
        "  def __init__(harleen,age,name,address):\n",
        "    address=\"jaipur\"\n",
        "    print(age,name,address)\n",
        "obj=A(12,\"vishnu\",None)"
      ],
      "metadata": {
        "colab": {
          "base_uri": "https://localhost:8080/"
        },
        "id": "6VI5zQbcVBQG",
        "outputId": "bfb59e5d-95f9-4ac7-84d7-32ba97a5617c"
      },
      "execution_count": 4,
      "outputs": [
        {
          "output_type": "stream",
          "name": "stdout",
          "text": [
            "12 vishnu jaipur\n"
          ]
        }
      ]
    },
    {
      "cell_type": "code",
      "source": [
        "class A:\n",
        "  name2=\"Lakshita\"\n",
        "  def __init__(args,age,name,address):\n",
        "    address=\"jodhpur\"\n",
        "    print(age,name,address,args.name2)\n",
        "\n",
        "obj=A(20,\"simran\",None)\n",
        "\n",
        "\n"
      ],
      "metadata": {
        "colab": {
          "base_uri": "https://localhost:8080/"
        },
        "id": "iOkGfPxsVr27",
        "outputId": "5151b015-44ed-47a9-dac0-55a2fabd6ee5"
      },
      "execution_count": 9,
      "outputs": [
        {
          "output_type": "stream",
          "name": "stdout",
          "text": [
            "20 simran jodhpur Lakshita\n"
          ]
        }
      ]
    },
    {
      "cell_type": "code",
      "source": [
        "class A:\n",
        "  def __init__(r):\n",
        "   print(\"rama\")\n",
        "obj=A()\n"
      ],
      "metadata": {
        "colab": {
          "base_uri": "https://localhost:8080/"
        },
        "id": "yuPH4DFLXEDK",
        "outputId": "0ef169dd-9e67-40d9-9640-a003f7764244"
      },
      "execution_count": 7,
      "outputs": [
        {
          "output_type": "stream",
          "name": "stdout",
          "text": [
            "rama\n"
          ]
        }
      ]
    },
    {
      "cell_type": "code",
      "source": [
        "class A:\n",
        "  def __init__(self,age,name,address):\n",
        "    print(age, \" \",name,\"  \",address,\"  \")\n",
        "\n",
        "obj=A(21,\"yash\",\"kota\")"
      ],
      "metadata": {
        "colab": {
          "base_uri": "https://localhost:8080/"
        },
        "id": "O1MBZBT6TrSv",
        "outputId": "17f8dd3f-912e-4f6d-89ab-f76709ea3e8e"
      },
      "execution_count": 2,
      "outputs": [
        {
          "output_type": "stream",
          "name": "stdout",
          "text": [
            "21   yash    kota   \n"
          ]
        }
      ]
    }
  ]
}