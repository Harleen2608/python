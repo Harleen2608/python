{
  "nbformat": 4,
  "nbformat_minor": 0,
  "metadata": {
    "colab": {
      "provenance": [],
      "authorship_tag": "ABX9TyOh5hvkghKlAPDRdEODbijf",
      "include_colab_link": true
    },
    "kernelspec": {
      "name": "python3",
      "display_name": "Python 3"
    },
    "language_info": {
      "name": "python"
    }
  },
  "cells": [
    {
      "cell_type": "markdown",
      "metadata": {
        "id": "view-in-github",
        "colab_type": "text"
      },
      "source": [
        "<a href=\"https://colab.research.google.com/github/Harleen2608/python/blob/main/ifElifElse.ipynb\" target=\"_parent\"><img src=\"https://colab.research.google.com/assets/colab-badge.svg\" alt=\"Open In Colab\"/></a>"
      ]
    },
    {
      "cell_type": "code",
      "execution_count": null,
      "metadata": {
        "id": "HqU9H85OJEkb"
      },
      "outputs": [],
      "source": [
        "# for checking even and odd\n",
        "a=87\n",
        "\n",
        "if a%2==0 :\n",
        "  print(\"even\")\n",
        "else:\n",
        "  print(\"odd\")"
      ]
    },
    {
      "cell_type": "code",
      "source": [
        "#determine the largest of three numbers\n",
        "a=int(input(\"enter the first number :\"))\n",
        "b=int(input(\"enter the second number :\"))\n",
        "c=int(input(\"enter the third number :\"))\n",
        "if (a>=b)and(a>=c):\n",
        "  print(f\"{a} is greater\")\n",
        "elif(b>=c)and(b>=a) :\n",
        "  print(f\"{b} is greater\")\n",
        "else:\n",
        "  print(f\"{c} is greater\")"
      ],
      "metadata": {
        "id": "MbzvYcxEJusi"
      },
      "execution_count": null,
      "outputs": []
    },
    {
      "cell_type": "code",
      "source": [
        "#check if a year is a leap year\n",
        "year=int(input(\"enter a year:\"))\n",
        "if(year%4==0and year%100!=0)or(year%400==0):\n",
        "  print(f\"{year} is leap year\")\n",
        "else:\n",
        "   print(f\"{year} is not a leap year \")"
      ],
      "metadata": {
        "id": "8oTQtPR5L_Nl"
      },
      "execution_count": null,
      "outputs": []
    },
    {
      "cell_type": "code",
      "source": [
        "#Grading system\n",
        "score=int(input(\"enter your score :\"))\n",
        "if score >= 90:\n",
        "  print(f\"{score} has grade A\")\n",
        "elif 90 > score >= 80:\n",
        "  print(f\"{score} has grade B\")\n",
        "elif 80 > score >= 70:\n",
        "  print(f\"{score} has grade C\")\n",
        "elif 70 > score >= 60:\n",
        "  print(f\"{score} has grade D\")\n",
        "else:\n",
        "  print(\"grade is E\")"
      ],
      "metadata": {
        "id": "FWt0ld5rNqoe",
        "colab": {
          "base_uri": "https://localhost:8080/"
        },
        "outputId": "25ca699d-ce09-43f6-dd9c-b83402d9a0d9"
      },
      "execution_count": null,
      "outputs": [
        {
          "output_type": "stream",
          "name": "stdout",
          "text": [
            "enter your score :70\n",
            "70 has grade C\n"
          ]
        }
      ]
    },
    {
      "cell_type": "code",
      "source": [
        "#check if a number is positive ,negative or zero\n",
        "number=int(input(\"enter a number:\"))\n",
        "if number>0:\n",
        "  print(f\"{number} is positive\")\n",
        "elif number==0:\n",
        "    print(f\"{number} is zero\")\n",
        "else:\n",
        "    print(f\"{number} is negative\")"
      ],
      "metadata": {
        "colab": {
          "base_uri": "https://localhost:8080/"
        },
        "id": "ON7pN3sSTN6N",
        "outputId": "69c880b8-449a-4d51-f80e-f54a6bf74772"
      },
      "execution_count": null,
      "outputs": [
        {
          "output_type": "stream",
          "name": "stdout",
          "text": [
            "enter a number:0\n",
            "0 is zero\n"
          ]
        }
      ]
    },
    {
      "cell_type": "code",
      "source": [
        "#claculator\n",
        "num1=int(input(\"enter a number:\"))\n",
        "num2=int(input(\"enter other number:\"))\n",
        "operation=(input(\"enter a operation(+,-,%,//,/,*,**):\"))\n",
        "\n",
        "if operation ==\"+\":\n",
        "  result=num1 + num2\n",
        "elif operation ==\"-\":\n",
        "  result=num1 - num2\n",
        "elif operation ==\"*\":\n",
        "  result=num1 * num2\n",
        "elif operation ==\"**\":\n",
        "  result=num1 ** num2\n",
        "elif operation ==\"/\":\n",
        "  if num2 !=0:\n",
        "    result=num1/num2\n",
        "  else:\n",
        "    print(\"infinite--cannot divide by zero\")\n",
        "elif operation ==\"//\":\n",
        "  result=num1//num2\n",
        "else:\n",
        "  print(\"operation is not defined\")\n",
        "\n",
        "print(result)\n",
        "\n"
      ],
      "metadata": {
        "colab": {
          "base_uri": "https://localhost:8080/"
        },
        "id": "JXoyufuzUv8p",
        "outputId": "0bbf50ba-06b3-4ecf-bb33-40d8116957e5"
      },
      "execution_count": null,
      "outputs": [
        {
          "output_type": "stream",
          "name": "stdout",
          "text": [
            "enter a number:3\n",
            "enter other number:6\n",
            "enter a operation(+,-,%,//,/,*,**):+\n",
            "9\n"
          ]
        }
      ]
    },
    {
      "cell_type": "code",
      "source": [
        "#checking if a letter is a vowel or consonant\n",
        "letter=str(input(\"enter a letter :\"))\n",
        "if(letter==\"a\" or letter==\"e\" or letter==\"i\" or letter==\"o\" or letter==\"u\"):\n",
        "  print(\"letter is vowel\")\n",
        "else:\n",
        "  print(\"letter is consonant\")"
      ],
      "metadata": {
        "colab": {
          "base_uri": "https://localhost:8080/"
        },
        "id": "I2Rl2IqQZUcr",
        "outputId": "124106eb-5f1a-42a2-d22c-6229c93b1e60"
      },
      "execution_count": null,
      "outputs": [
        {
          "output_type": "stream",
          "name": "stdout",
          "text": [
            "enter a letter :har\n",
            "letter is consonant\n"
          ]
        }
      ]
    },
    {
      "cell_type": "code",
      "source": [
        "#checking a kind of triangle\n",
        "s1=int(input(\"enter a side:\"))\n",
        "s2=int(input(\"enter second side\"))\n",
        "s3=int(input(\"enter third side \"))\n",
        "if s1==s2 or s2==s3 or s3==s1:\n",
        "  print(\"triangle is isoseleces\")\n",
        "elif s1!=s2 or s1!=s3 or s2!=s3:\n",
        "  print(\"triangle is scalene\")\n",
        "elif s1==s2==s3:\n",
        "  print(\"triangle is equilateral\")\n",
        "else:\n",
        "  print(\"default side\")"
      ],
      "metadata": {
        "colab": {
          "base_uri": "https://localhost:8080/"
        },
        "id": "Ku-zw9TWagKa",
        "outputId": "d722cd11-e4ea-4290-910e-01a395ad48a1"
      },
      "execution_count": null,
      "outputs": [
        {
          "output_type": "stream",
          "name": "stdout",
          "text": [
            "enter a side:12\n",
            "enter second side6\n",
            "enter third side 9\n",
            "triangle is scalene\n"
          ]
        }
      ]
    },
    {
      "cell_type": "code",
      "source": [
        "#ckecking for pallindrome\n",
        "pallindrome=input(\"enter a string\")\n",
        "word=pallindrome[::-1]\n",
        "\n",
        "if pallindrome==word:\n",
        "  print(\"its pallindrome\")\n",
        "else:\n",
        "    print(\"not a pallindrome\")"
      ],
      "metadata": {
        "colab": {
          "base_uri": "https://localhost:8080/"
        },
        "id": "ixpAr69fdYhP",
        "outputId": "04300dbf-9539-41d6-c8f2-5d8be20af206"
      },
      "execution_count": null,
      "outputs": [
        {
          "output_type": "stream",
          "name": "stdout",
          "text": [
            "enter a string12321\n",
            "its pallindrome\n"
          ]
        }
      ]
    }
  ]
}