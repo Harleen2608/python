{
  "nbformat": 4,
  "nbformat_minor": 0,
  "metadata": {
    "colab": {
      "provenance": [],
      "authorship_tag": "ABX9TyP2qPJkbrBtv2/5cayRfm6B",
      "include_colab_link": true
    },
    "kernelspec": {
      "name": "python3",
      "display_name": "Python 3"
    },
    "language_info": {
      "name": "python"
    }
  },
  "cells": [
    {
      "cell_type": "markdown",
      "metadata": {
        "id": "view-in-github",
        "colab_type": "text"
      },
      "source": [
        "<a href=\"https://colab.research.google.com/github/Harleen2608/python/blob/main/myoperators.ipynb\" target=\"_parent\"><img src=\"https://colab.research.google.com/assets/colab-badge.svg\" alt=\"Open In Colab\"/></a>"
      ]
    },
    {
      "cell_type": "code",
      "execution_count": null,
      "metadata": {
        "colab": {
          "base_uri": "https://localhost:8080/"
        },
        "id": "rlMDEBM8t663",
        "outputId": "eff63d57-063f-4e03-cdff-351b62664c3d"
      },
      "outputs": [
        {
          "output_type": "stream",
          "name": "stdout",
          "text": [
            "68 \n",
            " -42 \n",
            " 715 \n",
            " 0.23636363636363636 \n",
            " 13 \n",
            "\n"
          ]
        }
      ],
      "source": [
        "a=13\n",
        "b=55\n",
        "#addition\n",
        "c=a+b\n",
        "#subtraction\n",
        "d=a-b\n",
        "#multiplication\n",
        "e=a*b\n",
        "#division\n",
        "f=a/b\n",
        "#modulus\n",
        "g=a%b\n",
        "\n",
        "print(c,\"\\n\",d,\"\\n\",e,\"\\n\",f,\"\\n\",g,\"\\n\")\n"
      ]
    },
    {
      "cell_type": "code",
      "source": [
        "#comparision operator\n",
        "a=13\n",
        "b=7\n",
        "c= a==b\n",
        "d=a<=b\n",
        "e=a>=b\n",
        "f=a<b\n",
        "g=a>b\n",
        "print(c,\"\\n\",d,\"\\n\",e,\"\\n\",f,\"\\n\",g,\"\\n\")"
      ],
      "metadata": {
        "colab": {
          "base_uri": "https://localhost:8080/"
        },
        "id": "oIOGP9jhu_9s",
        "outputId": "3eb833ee-ddb3-46be-d081-bcd698bd3443"
      },
      "execution_count": null,
      "outputs": [
        {
          "output_type": "stream",
          "name": "stdout",
          "text": [
            "False \n",
            " False \n",
            " True \n",
            " False \n",
            " True \n",
            "\n"
          ]
        }
      ]
    },
    {
      "cell_type": "code",
      "source": [
        "#logical operators\n",
        "_a_=True\n",
        "_b_=False\n"
      ],
      "metadata": {
        "id": "nK-uFXVmvbwz"
      },
      "execution_count": null,
      "outputs": []
    },
    {
      "cell_type": "code",
      "source": [
        "#assignment operator\n",
        "a=5\n",
        "b=7\n",
        "a=a+5\n",
        "print(a)\n",
        "b+=3\n",
        "print(b)\n",
        "c=2\n",
        "c*=4\n",
        "print(c)"
      ],
      "metadata": {
        "colab": {
          "base_uri": "https://localhost:8080/"
        },
        "id": "Zn7AVnImvwdm",
        "outputId": "6ace9d51-144a-4b1e-8d2f-ed5071f9d5d9"
      },
      "execution_count": null,
      "outputs": [
        {
          "output_type": "stream",
          "name": "stdout",
          "text": [
            "10\n",
            "10\n",
            "0\n"
          ]
        }
      ]
    }
  ]
}