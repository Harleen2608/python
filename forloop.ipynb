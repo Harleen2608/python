{
  "nbformat": 4,
  "nbformat_minor": 0,
  "metadata": {
    "colab": {
      "provenance": [],
      "authorship_tag": "ABX9TyO6fjB92U+FV6JNwBiJXYJ9",
      "include_colab_link": true
    },
    "kernelspec": {
      "name": "python3",
      "display_name": "Python 3"
    },
    "language_info": {
      "name": "python"
    }
  },
  "cells": [
    {
      "cell_type": "markdown",
      "metadata": {
        "id": "view-in-github",
        "colab_type": "text"
      },
      "source": [
        "<a href=\"https://colab.research.google.com/github/Harleen2608/python/blob/main/forloop.ipynb\" target=\"_parent\"><img src=\"https://colab.research.google.com/assets/colab-badge.svg\" alt=\"Open In Colab\"/></a>"
      ]
    },
    {
      "cell_type": "code",
      "execution_count": null,
      "metadata": {
        "id": "_-qME4g_4MfN",
        "colab": {
          "base_uri": "https://localhost:8080/"
        },
        "outputId": "85264859-6cf1-45c3-ecf0-5e6c3d946209"
      },
      "outputs": [
        {
          "output_type": "stream",
          "name": "stdout",
          "text": [
            "Enter a wordty\n",
            "yt"
          ]
        }
      ],
      "source": [
        "word=input(\"Enter a word\")\n",
        "length=len(word)\n",
        "for i in range((length-1),-1,-1):\n",
        "\n",
        "  print(word[i],end=\"\")\n",
        "\n",
        "\n"
      ]
    },
    {
      "cell_type": "code",
      "source": [
        "value=int(input(\"enter the value\"))\n",
        "for i in range(value):\n",
        "   if i%2==0:\n",
        "    print(i)"
      ],
      "metadata": {
        "colab": {
          "base_uri": "https://localhost:8080/"
        },
        "id": "b9AnHMJuT4IZ",
        "outputId": "8c52d02b-3499-406a-aeee-71fb3f3ad17b"
      },
      "execution_count": null,
      "outputs": [
        {
          "output_type": "stream",
          "name": "stdout",
          "text": [
            "enter the value7\n",
            "0\n",
            "2\n",
            "4\n",
            "6\n"
          ]
        }
      ]
    },
    {
      "cell_type": "code",
      "source": [
        "value=int(input(\"enter the value\"))\n",
        "for i in range(0,value):\n",
        "\n",
        "  print(i+1)\n",
        "\n"
      ],
      "metadata": {
        "colab": {
          "base_uri": "https://localhost:8080/"
        },
        "id": "aK-BPTPDUc8Q",
        "outputId": "bf363a0f-7b78-409c-c10d-621a709d78b2"
      },
      "execution_count": null,
      "outputs": [
        {
          "output_type": "stream",
          "name": "stdout",
          "text": [
            "enter the value4\n",
            "1\n",
            "2\n",
            "3\n",
            "4\n"
          ]
        }
      ]
    },
    {
      "cell_type": "code",
      "source": [
        "value=int(input(\"enter the value\"))\n",
        "sum=0\n",
        "for i in range(value):\n",
        "   if i%2!=0:\n",
        "    sum=sum+i\n",
        "\n",
        "print(sum)"
      ],
      "metadata": {
        "colab": {
          "base_uri": "https://localhost:8080/"
        },
        "id": "_lQm3qBtVVM0",
        "outputId": "481d79ba-d36b-4322-cc2f-9c123f4bfeeb"
      },
      "execution_count": null,
      "outputs": [
        {
          "output_type": "stream",
          "name": "stdout",
          "text": [
            "enter the value5\n",
            "4\n"
          ]
        }
      ]
    },
    {
      "cell_type": "code",
      "source": [
        "value = int(input(\"enter the value\"))\n",
        "for i in range(11):\n",
        "  print(value,\"x\",i,\"=\",value*i)"
      ],
      "metadata": {
        "colab": {
          "base_uri": "https://localhost:8080/"
        },
        "id": "E-tOlnF3WiQR",
        "outputId": "8e807c24-b8a9-45ae-a3b6-19cd82db1b9f"
      },
      "execution_count": null,
      "outputs": [
        {
          "output_type": "stream",
          "name": "stdout",
          "text": [
            "enter the value4\n",
            "4 x 0 = 0\n",
            "4 x 1 = 4\n",
            "4 x 2 = 8\n",
            "4 x 3 = 12\n",
            "4 x 4 = 16\n",
            "4 x 5 = 20\n",
            "4 x 6 = 24\n",
            "4 x 7 = 28\n",
            "4 x 8 = 32\n",
            "4 x 9 = 36\n",
            "4 x 10 = 40\n"
          ]
        }
      ]
    },
    {
      "cell_type": "code",
      "source": [
        "list1=[1,34,5.0,45.89,\"radha\",\"krishna\",\"shyama\",67]\n",
        "for i in list1:\n",
        "  print(i)"
      ],
      "metadata": {
        "colab": {
          "base_uri": "https://localhost:8080/"
        },
        "id": "p-24uwUBYKRd",
        "outputId": "ba884fe2-3055-47ed-a603-011b56f0e303"
      },
      "execution_count": null,
      "outputs": [
        {
          "output_type": "stream",
          "name": "stdout",
          "text": [
            "1\n",
            "34\n",
            "5.0\n",
            "45.89\n",
            "radha\n",
            "krishna\n",
            "shyama\n",
            "67\n"
          ]
        }
      ]
    },
    {
      "cell_type": "code",
      "source": [
        "digit=str(input(\"enter a digit\"))\n",
        "count=0\n",
        "for i in digit:\n",
        "  count+=1\n",
        "\n",
        "print(count)"
      ],
      "metadata": {
        "colab": {
          "base_uri": "https://localhost:8080/"
        },
        "id": "Hm1jp57rYjDI",
        "outputId": "1afef554-3bdf-433d-d67c-e129537fae40"
      },
      "execution_count": null,
      "outputs": [
        {
          "output_type": "stream",
          "name": "stdout",
          "text": [
            "enter a digit456\n",
            "3\n"
          ]
        }
      ]
    },
    {
      "cell_type": "code",
      "source": [
        "original=(input(\"enter a string\"))\n",
        "reverse=\"\"\n",
        "for i in original:\n",
        "  reverse = i+reverse\n",
        "print(reverse)\n",
        "\n",
        "if(original==reverse):\n",
        "     print(\"pallindrome\")\n",
        "else:\n",
        "     print(\"not a pallindrome\")"
      ],
      "metadata": {
        "colab": {
          "base_uri": "https://localhost:8080/"
        },
        "id": "U8vByqD4ZXKe",
        "outputId": "64075b5d-d73d-4b24-94c5-279e8096d017"
      },
      "execution_count": null,
      "outputs": [
        {
          "output_type": "stream",
          "name": "stdout",
          "text": [
            "enter a string1221\n",
            "1221\n",
            "pallindrome\n"
          ]
        }
      ]
    },
    {
      "cell_type": "code",
      "source": [
        "number=(input(\"enter the number\"))\n",
        "length=len(number)\n",
        "sum=0\n",
        "for i in number:\n",
        "  sum+=int(i)**length\n",
        "\n",
        "\n",
        "if sum== int(number):\n",
        " print(\"armstrong\")\n",
        "\n"
      ],
      "metadata": {
        "colab": {
          "base_uri": "https://localhost:8080/"
        },
        "id": "Vc_IZT6vcLLl",
        "outputId": "7422b009-c614-443c-e139-5d0cb4cf93a8"
      },
      "execution_count": null,
      "outputs": [
        {
          "output_type": "stream",
          "name": "stdout",
          "text": [
            "enter the number153\n",
            "armstrong\n"
          ]
        }
      ]
    },
    {
      "cell_type": "code",
      "source": [
        "def fib(n):\n",
        "  a=0\n",
        "  b=1\n",
        "\n",
        "\n",
        "  if n==1:\n",
        "    print(a)\n",
        "\n",
        "  else:\n",
        "    print(a)\n",
        "    print(b)\n",
        "    for i in range(2,n):\n",
        "\n",
        "      c=a+b\n",
        "      a=b\n",
        "      b=c\n",
        "      print(c)\n",
        "\n",
        "\n",
        "fib(15)"
      ],
      "metadata": {
        "colab": {
          "base_uri": "https://localhost:8080/"
        },
        "id": "Pz3JD2NhlfDM",
        "outputId": "d59c18c8-78e5-4675-b950-71c531d3f0ec"
      },
      "execution_count": null,
      "outputs": [
        {
          "output_type": "stream",
          "name": "stdout",
          "text": [
            "0\n",
            "1\n",
            "1\n",
            "2\n",
            "3\n",
            "5\n",
            "8\n",
            "13\n",
            "21\n",
            "34\n",
            "55\n",
            "89\n",
            "144\n",
            "233\n",
            "377\n"
          ]
        }
      ]
    }
  ]
}