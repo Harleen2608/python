{
  "nbformat": 4,
  "nbformat_minor": 0,
  "metadata": {
    "colab": {
      "provenance": [],
      "authorship_tag": "ABX9TyOM5cQOs3JLjgYMwiFJld/p",
      "include_colab_link": true
    },
    "kernelspec": {
      "name": "python3",
      "display_name": "Python 3"
    },
    "language_info": {
      "name": "python"
    }
  },
  "cells": [
    {
      "cell_type": "markdown",
      "metadata": {
        "id": "view-in-github",
        "colab_type": "text"
      },
      "source": [
        "<a href=\"https://colab.research.google.com/github/Harleen2608/python/blob/main/ExceptionHandling.ipynb\" target=\"_parent\"><img src=\"https://colab.research.google.com/assets/colab-badge.svg\" alt=\"Open In Colab\"/></a>"
      ]
    },
    {
      "cell_type": "code",
      "source": [
        "The try block lets you test a block of code for errors.\n",
        "\n",
        "The except block lets you handle the error.\n",
        "\n",
        "The else block lets you execute code when there is no error.\n",
        "\n",
        "The finally block lets you execute code, regardless of the result of the try- and except blocks.\n",
        "\n",
        "we can choose to throw an exception if a condition occurs.\n",
        "\n",
        "To throw (or raise) an exception, use the raise keyword.\n",
        "\n",
        "The raise keyword is used to raise an exception.\n",
        "\n",
        "we can define what kind of error to raise, and the text to print to the user.\n",
        "\n",
        "Example\n",
        "\n"
      ],
      "metadata": {
        "id": "ys2rI_pCe7US"
      },
      "execution_count": null,
      "outputs": []
    },
    {
      "cell_type": "code",
      "source": [
        "try:\n",
        "  print(x)\n",
        "except:\n",
        "  print(\"x is not available\")"
      ],
      "metadata": {
        "colab": {
          "base_uri": "https://localhost:8080/"
        },
        "id": "ppSAcsVnhLRN",
        "outputId": "4700e9b3-c805-4931-ff8b-2201c56a7c66"
      },
      "execution_count": null,
      "outputs": [
        {
          "output_type": "stream",
          "name": "stdout",
          "text": [
            "x is not available\n"
          ]
        }
      ]
    },
    {
      "cell_type": "code",
      "source": [
        "try:\n",
        "  print(\"Hello\")\n",
        "except:\n",
        "  print(\"Something went wrong\")\n",
        "else:\n",
        "  print(\"Nothing went wrong\")"
      ],
      "metadata": {
        "colab": {
          "base_uri": "https://localhost:8080/"
        },
        "id": "c6ISIiT_l24O",
        "outputId": "3443c962-3261-4ad0-a8c9-a4dbed6c7260"
      },
      "execution_count": null,
      "outputs": [
        {
          "output_type": "stream",
          "name": "stdout",
          "text": [
            "Nothing went wrong\n"
          ]
        }
      ]
    },
    {
      "cell_type": "code",
      "source": [
        "a=int(input(\"enter a number:\"))\n",
        "b=int(input(\"enter a other number:\"))\n",
        "\n",
        "try:\n",
        "   c = a/b\n",
        "   print(c)\n",
        "\n",
        "except:\n",
        "  print(\"cannot divided by 0\")"
      ],
      "metadata": {
        "id": "kz-RXm3K2aZE"
      },
      "execution_count": null,
      "outputs": []
    },
    {
      "cell_type": "code",
      "source": [
        "try:\n",
        "  x=26\n",
        "  print(x)\n",
        "except:\n",
        "  print(\"something ent wrong\")\n",
        "finally:\n",
        "  print(\"try catch block both were executed\")"
      ],
      "metadata": {
        "id": "hfmQbIHq2uI9",
        "colab": {
          "base_uri": "https://localhost:8080/"
        },
        "outputId": "5361cf2e-24be-453e-9fa6-d134ea9b6b50"
      },
      "execution_count": 2,
      "outputs": [
        {
          "output_type": "stream",
          "name": "stdout",
          "text": [
            "26\n",
            "try catch block both were executed\n"
          ]
        }
      ]
    },
    {
      "cell_type": "code",
      "source": [
        "try:\n",
        "  a=int(input(\"enter a no.\"))\n",
        "  b=int(input(\"enter a no.\"))\n",
        "  c=a/b\n",
        "  print(c)\n",
        "except:\n",
        "  print(\"division is not applicable as denomenator is 0\")\n",
        "finally:\n",
        "  print(\"this block is always executed rather depends on any try or expect block\")"
      ],
      "metadata": {
        "colab": {
          "base_uri": "https://localhost:8080/"
        },
        "id": "vbnD3GfF8WfZ",
        "outputId": "c64aa997-194b-437a-9ada-da0f922dcdc5"
      },
      "execution_count": 4,
      "outputs": [
        {
          "output_type": "stream",
          "name": "stdout",
          "text": [
            "enter a no.9\n",
            "enter a no.81\n",
            "0.1111111111111111\n",
            "this block is always executed rather depends on any try or expect block\n"
          ]
        }
      ]
    },
    {
      "cell_type": "code",
      "source": [
        "from ast import Expression\n",
        "try:\n",
        "  f=open(\"Untitled0.ipynb\")\n",
        "  try:\n",
        "    f.write(\"harleen is here\")\n",
        "  except:\n",
        "     print(\"something went wrong in writing in a file\")\n",
        "  finally:\n",
        "    f.close()\n",
        "except:\n",
        "  print(\"file doesnot exists\")"
      ],
      "metadata": {
        "colab": {
          "base_uri": "https://localhost:8080/"
        },
        "id": "6LecrAFX9bRg",
        "outputId": "3bcdcc3c-a6eb-4405-b910-682122b272ad"
      },
      "execution_count": 11,
      "outputs": [
        {
          "output_type": "stream",
          "name": "stdout",
          "text": [
            "file doesnot exists\n"
          ]
        }
      ]
    },
    {
      "cell_type": "code",
      "source": [
        "x=-9\n",
        "if x<0:\n",
        "  raise Exception(\"x is less than 0\")\n",
        "\n",
        ""
      ],
      "metadata": {
        "colab": {
          "base_uri": "https://localhost:8080/",
          "height": 219
        },
        "id": "DCWJe3KSAUHs",
        "outputId": "bbbac443-135b-4952-d6e1-2caeebe69abf"
      },
      "execution_count": 16,
      "outputs": [
        {
          "output_type": "error",
          "ename": "Exception",
          "evalue": "x is less than 0",
          "traceback": [
            "\u001b[0;31m---------------------------------------------------------------------------\u001b[0m",
            "\u001b[0;31mException\u001b[0m                                 Traceback (most recent call last)",
            "\u001b[0;32m<ipython-input-16-726a8873c0e6>\u001b[0m in \u001b[0;36m<cell line: 2>\u001b[0;34m()\u001b[0m\n\u001b[1;32m      1\u001b[0m \u001b[0mx\u001b[0m\u001b[0;34m=\u001b[0m\u001b[0;34m-\u001b[0m\u001b[0;36m9\u001b[0m\u001b[0;34m\u001b[0m\u001b[0;34m\u001b[0m\u001b[0m\n\u001b[1;32m      2\u001b[0m \u001b[0;32mif\u001b[0m \u001b[0mx\u001b[0m\u001b[0;34m<\u001b[0m\u001b[0;36m0\u001b[0m\u001b[0;34m:\u001b[0m\u001b[0;34m\u001b[0m\u001b[0;34m\u001b[0m\u001b[0m\n\u001b[0;32m----> 3\u001b[0;31m   \u001b[0;32mraise\u001b[0m \u001b[0mException\u001b[0m\u001b[0;34m(\u001b[0m\u001b[0;34m\"x is less than 0\"\u001b[0m\u001b[0;34m)\u001b[0m\u001b[0;34m\u001b[0m\u001b[0;34m\u001b[0m\u001b[0m\n\u001b[0m\u001b[1;32m      4\u001b[0m \u001b[0;34m\u001b[0m\u001b[0m\n\u001b[1;32m      5\u001b[0m \u001b[0;34m\u001b[0m\u001b[0m\n",
            "\u001b[0;31mException\u001b[0m: x is less than 0"
          ]
        }
      ]
    },
    {
      "cell_type": "code",
      "source": [
        "y=\"hello\"\n",
        "\n",
        "if type(y) is not int :\n",
        "  raise TypeError(\"type of variable is not integer\")"
      ],
      "metadata": {
        "colab": {
          "base_uri": "https://localhost:8080/",
          "height": 182
        },
        "id": "te9bqCZ2BdsZ",
        "outputId": "82c11fff-6bb4-4082-9f5d-b92838e8e38a"
      },
      "execution_count": 17,
      "outputs": [
        {
          "output_type": "error",
          "ename": "TypeError",
          "evalue": "type of variable is not integer",
          "traceback": [
            "\u001b[0;31m---------------------------------------------------------------------------\u001b[0m",
            "\u001b[0;31mTypeError\u001b[0m                                 Traceback (most recent call last)",
            "\u001b[0;32m<ipython-input-17-11276beb8420>\u001b[0m in \u001b[0;36m<cell line: 3>\u001b[0;34m()\u001b[0m\n\u001b[1;32m      2\u001b[0m \u001b[0;34m\u001b[0m\u001b[0m\n\u001b[1;32m      3\u001b[0m \u001b[0;32mif\u001b[0m \u001b[0mtype\u001b[0m\u001b[0;34m(\u001b[0m\u001b[0my\u001b[0m\u001b[0;34m)\u001b[0m \u001b[0;32mis\u001b[0m \u001b[0;32mnot\u001b[0m \u001b[0mint\u001b[0m \u001b[0;34m:\u001b[0m\u001b[0;34m\u001b[0m\u001b[0;34m\u001b[0m\u001b[0m\n\u001b[0;32m----> 4\u001b[0;31m   \u001b[0;32mraise\u001b[0m \u001b[0mTypeError\u001b[0m\u001b[0;34m(\u001b[0m\u001b[0;34m\"type of variable is not integer\"\u001b[0m\u001b[0;34m)\u001b[0m\u001b[0;34m\u001b[0m\u001b[0;34m\u001b[0m\u001b[0m\n\u001b[0m",
            "\u001b[0;31mTypeError\u001b[0m: type of variable is not integer"
          ]
        }
      ]
    }
  ]
}