{
  "nbformat": 4,
  "nbformat_minor": 0,
  "metadata": {
    "colab": {
      "provenance": [],
      "authorship_tag": "ABX9TyNv27n/TaLF2PAuu7vJdjaN",
      "include_colab_link": true
    },
    "kernelspec": {
      "name": "python3",
      "display_name": "Python 3"
    },
    "language_info": {
      "name": "python"
    }
  },
  "cells": [
    {
      "cell_type": "markdown",
      "metadata": {
        "id": "view-in-github",
        "colab_type": "text"
      },
      "source": [
        "<a href=\"https://colab.research.google.com/github/Harleen2608/python/blob/main/myLists.ipynb\" target=\"_parent\"><img src=\"https://colab.research.google.com/assets/colab-badge.svg\" alt=\"Open In Colab\"/></a>"
      ]
    },
    {
      "cell_type": "markdown",
      "source": [
        "mylist=[1,5,89,\"radha\",\"ram\",\"krishna\",19.80,56.78,9.7]\n",
        "\n",
        "mylist[0]\n",
        "mylist[4]\n",
        "print(mylist[6])\n",
        "#append\n",
        "list1 =[\"banana\",\"cherry\",\"apple\"]\n",
        "list2 =[\"these are fruits\"]\n",
        "list1.append(list2)\n",
        "print(list1)\n",
        "\n",
        "\n",
        "#silicing\n",
        "print(\"list[0:8] =\",mylist[0:8])\n",
        "print(\"list[3:7] =\",mylist[3:7])\n",
        "print(mylist[0:])\n",
        "\n",
        "#length of list\n",
        "print(\"length of list=\" ,len(mylist))\n",
        "\n",
        "#append---add in the last of list\n",
        "mylist.append(\"priya c2\")\n",
        "mylist\n",
        "\n",
        "\n",
        "#reversing a list\n",
        "print(mylist[::-1])\n"
      ],
      "metadata": {
        "id": "QPDijgOEY9Jx"
      }
    },
    {
      "cell_type": "code",
      "source": [
        "mylist=[1,5,89,\"radha\",\"ram\",\"krishna\",19.80,56.78,9.7]\n",
        "\n",
        "mylist[0] mylist[4] print(mylist[6])\n",
        "\n",
        "#append\n",
        "list1 =[\"banana\",\"cherry\",\"apple\"] list2 =[\"these are fruits\"] list1.append(list2) print(list1)\n",
        "\n",
        "#silicing\n",
        "print(\"list[0:8] =\",mylist[0:8]) print(\"list[3:7] =\",mylist[3:7]) print(mylist[0:])\n",
        "\n",
        "#length of list\n",
        "print(\"length of list=\" ,len(mylist))\n",
        "\n",
        "a#ppend---add in the last of list\n",
        "mylist.append(\"priya c2\") mylist\n",
        "\n",
        "#reversing a list\n",
        "print(mylist[::-1])\n",
        "\n",
        "\n",
        "#pop in list----->when we want to take out an element from list and retured that element ---it removes an element form list and returns it\n",
        "list3=[1,2,3,4,5,6,7,8,9]\n",
        "popped_value=list3.pop(0)\n",
        "print(popped_value)\n",
        "print(list3)\n",
        "#inserting an element in list\n",
        "list3.insert(3,\"har\")  #(index,element)\n",
        "print(list3)\n",
        "\n",
        "#remove---->remove the element from list\n",
        "list3.remove(5)\n",
        "print(list3)\n",
        "\n",
        "#nested list\n",
        "l4=[[1,2,3,4],[5,6,7,8],[9,0,1,2]]\n",
        "print(l4[1][2])\n",
        "\n",
        "\n",
        "#sorting an list\n",
        "l5=[98,45,67,7,2,4,67]\n",
        "l5.sort()\n",
        "print(l5)\n",
        "\n",
        "#it extend the list with new elements\n",
        "l5.extend([0,9,3])\n",
        "print(l5)"
      ],
      "metadata": {
        "colab": {
          "base_uri": "https://localhost:8080/"
        },
        "id": "Mz6qPjfNV8TQ",
        "outputId": "b882d406-6992-4545-fc59-cc0d794f8af8"
      },
      "execution_count": null,
      "outputs": [
        {
          "output_type": "stream",
          "name": "stdout",
          "text": [
            "1\n",
            "[2, 3, 4, 5, 6, 7, 8, 9]\n",
            "[2, 3, 4, 'har', 5, 6, 7, 8, 9]\n",
            "[2, 3, 4, 'har', 6, 7, 8, 9]\n",
            "7\n",
            "[2, 4, 7, 45, 67, 67, 98]\n",
            "[2, 4, 7, 45, 67, 67, 98, 0, 9, 3]\n"
          ]
        }
      ]
    }
  ]
}